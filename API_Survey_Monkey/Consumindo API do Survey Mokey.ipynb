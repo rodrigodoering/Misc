{
 "cells": [
  {
   "cell_type": "code",
   "execution_count": 1,
   "metadata": {},
   "outputs": [],
   "source": [
    "import requests\n",
    "import pandas as pd\n",
    "import funcoes_suporte as f"
   ]
  },
  {
   "cell_type": "markdown",
   "metadata": {},
   "source": [
    "A API do surveymoney retorna tanto as respostas quanto as possíveis opções de resposta com identificações numéricas\n",
    "Por isso, na parte de extrair os dado tem duas etapas, extrair as respostas, e extrair os detalhes sobre as perguntas\n",
    "E depois cruzar os dois para poder quantificar e identificar o que foi respondido em cada questionário\n",
    "\n",
    "Nessa parte são criadas as urls para acessar tanto os questionários preenchidos, quanto os detalhes do questionário"
   ]
  },
  {
   "cell_type": "code",
   "execution_count": 2,
   "metadata": {},
   "outputs": [],
   "source": [
    "# ID do survey na API\n",
    "Survey_ID = '172901009'"
   ]
  },
  {
   "cell_type": "code",
   "execution_count": null,
   "metadata": {},
   "outputs": [],
   "source": [
    "# Endpoints das respostas e do detalhe dos surveys\n",
    "endpoint_respostas = \"/v3/surveys/%s/responses\" % Survey_ID\n",
    "endpoint_detalhes_survey = \"/v3/surveys/%s/details\" % Survey_ID"
   ]
  },
  {
   "cell_type": "code",
   "execution_count": null,
   "metadata": {},
   "outputs": [],
   "source": [
    "# caminho final para request\n",
    "url_respostas = \"%s%s\" % (\"https://api.surveymonkey.net\", endpoint_respostas)\n",
    "url_detalhes_survey = \"%s%s\" % (\"https://api.surveymonkey.net\", endpoint_detalhes_survey)"
   ]
  },
  {
   "cell_type": "markdown",
   "metadata": {},
   "source": [
    "\n",
    "Nessa parte é feito o request dos dados dos questionários preenchidos para se extrair as respostas de cada questionário\n",
    "O ID numérico que representa cada resposta preenchida em cada pergunta de cada um dos questionários respondidos\n",
    "é armazenado em \"respostas_final\" seguindo a estrutura:\n",
    "    \n",
    "    {id_questionário: {id_pergunta: id_resposta}}\n"
   ]
  },
  {
   "cell_type": "code",
   "execution_count": 4,
   "metadata": {},
   "outputs": [],
   "source": [
    "# Contem o ID de todos os questionários respondidos\n",
    "json_respostas = f.make_request(url_respostas)\n",
    "\n",
    "# Armazena todos os IDs de todos os quetionários preenchidos\n",
    "ids_survey = [survey['id'] for survey in json_respostas['data']]\n",
    "\n",
    "# Armazena o caminho para acessar as respostas de todos os questionários preenchidos\n",
    "urls_survey = [url_respostas + '/%s/details' % id_ for id_ in ids_survey]"
   ]
  },
  {
   "cell_type": "code",
   "execution_count": 6,
   "metadata": {},
   "outputs": [],
   "source": [
    "# Aplica a função acima para armazenar as respostas de todos os questionários\n",
    "respostas_final = {id_:f.get_resposta(url_) for id_, url_ in zip(ids_survey, urls_survey)}"
   ]
  },
  {
   "cell_type": "code",
   "execution_count": 8,
   "metadata": {},
   "outputs": [
    {
     "name": "stdout",
     "output_type": "stream",
     "text": [
      "dict_keys(['10751399944', '10777673860', '10777820410', '10782757738', '10788047634', '10792995373', '10793092507', '10793028733', '10793874678', '10793878604', '10793877701', '10795074178', '10795178252', '10795186249', '10795218812', '10795865086', '10796038275', '10910009949'])\n"
     ]
    }
   ],
   "source": [
    "print(respostas_final.keys())"
   ]
  },
  {
   "cell_type": "code",
   "execution_count": 13,
   "metadata": {},
   "outputs": [
    {
     "data": {
      "text/plain": [
       "{'261458088': '1771127817',\n",
       " '261458089': '1771145661',\n",
       " '261458092': '1771148217',\n",
       " '261458094': '1771162347',\n",
       " '261458102': '9',\n",
       " '261458105': '9',\n",
       " '261458106': '1771165261',\n",
       " '261458107': '1771169397',\n",
       " '261458108': '1771121972'}"
      ]
     },
     "execution_count": 13,
     "metadata": {},
     "output_type": "execute_result"
    }
   ],
   "source": [
    "respostas_final['10777820410']"
   ]
  },
  {
   "cell_type": "markdown",
   "metadata": {},
   "source": [
    "Nessa parte é extraído dos dados de detalhe do survey a identificação numérica de cada possível resposta \n",
    "para cada pergunta.\n",
    "\n",
    "Existem 3 tipos de perguntas: as single_choice (opção única) e matrix (escala) possuem um ID para cada possível\n",
    "resposta, e esses ids são armazenados em dicionários seguindo a estrutura:\n",
    "\n",
    "    {id_pergunta:[(id_opção, representação no formulário), (id_opção, representação no formulário)]}\n",
    "\n",
    "No caso de perguntas abertas, apenas o ID da pergunta é armazenado já que a representação real da resposta é a própria resposta inputada por quem preencheu o questionário"
   ]
  },
  {
   "cell_type": "code",
   "execution_count": 14,
   "metadata": {},
   "outputs": [],
   "source": [
    "# Contem a identificação numérica, pontuação e demais detalhes das perguntas do questionário separados por página\n",
    "json_survey = f.make_request(url_detalhes_survey)\n",
    "\n",
    "# Cria-se dois dicionários separados para armazenar a identificação das respostas de acordo com o ID da opção de resposta\n",
    "# Isso é feito já que a API entrega as respostas do tipo \"matrix\" e \"single_choice\" do questionário como um ID numérico\n",
    "matrix = {}\n",
    "single_choice = {}\n",
    "\n",
    "# Armazena o ID de perguntas abertas\n",
    "pergunta_aberta = []"
   ]
  },
  {
   "cell_type": "code",
   "execution_count": 15,
   "metadata": {},
   "outputs": [],
   "source": [
    "# Percorre o json_survey\n",
    "# O respectivo ID de cada opção de perguntas fechadas fica em: json['pages'][i]['questions'][j]['answers']['choices']\n",
    "for i in range(len(json_survey['pages'])):\n",
    "    for j in range(len(json_survey['pages'][i]['questions'])):\n",
    "        questao = json_survey['pages'][i]['questions'][j]\n",
    "        if questao['family'] == 'single_choice':\n",
    "            single_choice[questao['id']] = questao['answers']['choices']\n",
    "        elif questao['family'] == 'matrix':\n",
    "            matrix[questao['id']] = questao['answers']['choices']\n",
    "        else:\n",
    "            pergunta_aberta.append(questao['id'])"
   ]
  },
  {
   "cell_type": "code",
   "execution_count": 16,
   "metadata": {},
   "outputs": [],
   "source": [
    "# Funções para gerar tuplas com o Id e o segundo campo alvo para cada opção de cada pergunta\n",
    "# No caso de perguntas do tipo matrix > (Id, Posição)\n",
    "tupla_matrix = lambda dict_: (dict_['id'], dict_['position'])\n",
    "\n",
    "# No caso de perguntas do tipo single_choise > (Id, Texto)\n",
    "tupla_sc = lambda dict_: (dict_['id'], dict_['text'])\n",
    "\n",
    "# Gera o dicionário contendo {id_pergunta:[(id_opção, representação real), (id_opção, representação real)]}\n",
    "questoes_matrix = {id_questao:[tupla_matrix(dict_) for dict_ in matrix[id_questao]] for id_questao in matrix}\n",
    "questoes_single_choice = {id_questao:[tupla_sc(dict_) for dict_ in single_choice[id_questao]] for id_questao in single_choice}\n",
    "questoes_abertas = {id_questao: None for id_questao in pergunta_aberta}\n",
    "\n",
    "# Dicionário final, contendo todas as questões e suas respectivas identificações por opção\n",
    "dict_final = {**questoes_matrix,\n",
    "              **questoes_single_choice,\n",
    "              **questoes_abertas}"
   ]
  },
  {
   "cell_type": "code",
   "execution_count": 20,
   "metadata": {},
   "outputs": [
    {
     "data": {
      "text/html": [
       "<div>\n",
       "<style scoped>\n",
       "    .dataframe tbody tr th:only-of-type {\n",
       "        vertical-align: middle;\n",
       "    }\n",
       "\n",
       "    .dataframe tbody tr th {\n",
       "        vertical-align: top;\n",
       "    }\n",
       "\n",
       "    .dataframe thead th {\n",
       "        text-align: right;\n",
       "    }\n",
       "</style>\n",
       "<table border=\"1\" class=\"dataframe\">\n",
       "  <thead>\n",
       "    <tr style=\"text-align: right;\">\n",
       "      <th></th>\n",
       "      <th>0</th>\n",
       "      <th>1</th>\n",
       "      <th>2</th>\n",
       "      <th>3</th>\n",
       "      <th>4</th>\n",
       "      <th>5</th>\n",
       "      <th>6</th>\n",
       "      <th>7</th>\n",
       "      <th>8</th>\n",
       "      <th>9</th>\n",
       "      <th>...</th>\n",
       "      <th>21</th>\n",
       "      <th>22</th>\n",
       "      <th>23</th>\n",
       "      <th>24</th>\n",
       "      <th>25</th>\n",
       "      <th>26</th>\n",
       "      <th>27</th>\n",
       "      <th>28</th>\n",
       "      <th>29</th>\n",
       "      <th>30</th>\n",
       "    </tr>\n",
       "  </thead>\n",
       "  <tbody>\n",
       "    <tr>\n",
       "      <th>10751399944</th>\n",
       "      <td>5</td>\n",
       "      <td>4</td>\n",
       "      <td>5</td>\n",
       "      <td>5</td>\n",
       "      <td>Sim</td>\n",
       "      <td>Sim</td>\n",
       "      <td>Não</td>\n",
       "      <td>Sim</td>\n",
       "      <td>Sim</td>\n",
       "      <td>3 ou mais</td>\n",
       "      <td>...</td>\n",
       "      <td>None</td>\n",
       "      <td>None</td>\n",
       "      <td>None</td>\n",
       "      <td>None</td>\n",
       "      <td>16 a 30</td>\n",
       "      <td>6</td>\n",
       "      <td>6</td>\n",
       "      <td>Juliana</td>\n",
       "      <td>Ana Lídia Cunha</td>\n",
       "      <td>4632</td>\n",
       "    </tr>\n",
       "    <tr>\n",
       "      <th>10777673860</th>\n",
       "      <td>4</td>\n",
       "      <td>None</td>\n",
       "      <td>None</td>\n",
       "      <td>None</td>\n",
       "      <td>Não</td>\n",
       "      <td>Sim</td>\n",
       "      <td>Não</td>\n",
       "      <td>None</td>\n",
       "      <td>None</td>\n",
       "      <td>None</td>\n",
       "      <td>...</td>\n",
       "      <td>None</td>\n",
       "      <td>None</td>\n",
       "      <td>None</td>\n",
       "      <td>None</td>\n",
       "      <td>None</td>\n",
       "      <td>None</td>\n",
       "      <td>None</td>\n",
       "      <td>None</td>\n",
       "      <td>None</td>\n",
       "      <td>None</td>\n",
       "    </tr>\n",
       "    <tr>\n",
       "      <th>10777820410</th>\n",
       "      <td>4</td>\n",
       "      <td>5</td>\n",
       "      <td>None</td>\n",
       "      <td>None</td>\n",
       "      <td>Não</td>\n",
       "      <td>Sim</td>\n",
       "      <td>Não</td>\n",
       "      <td>Não se aplica</td>\n",
       "      <td>Sim</td>\n",
       "      <td>None</td>\n",
       "      <td>...</td>\n",
       "      <td>None</td>\n",
       "      <td>None</td>\n",
       "      <td>None</td>\n",
       "      <td>None</td>\n",
       "      <td>None</td>\n",
       "      <td>9</td>\n",
       "      <td>9</td>\n",
       "      <td>None</td>\n",
       "      <td>None</td>\n",
       "      <td>None</td>\n",
       "    </tr>\n",
       "    <tr>\n",
       "      <th>10782757738</th>\n",
       "      <td>5</td>\n",
       "      <td>5</td>\n",
       "      <td>5</td>\n",
       "      <td>5</td>\n",
       "      <td>Sim</td>\n",
       "      <td>Sim</td>\n",
       "      <td>Não</td>\n",
       "      <td>Sim</td>\n",
       "      <td>Sim</td>\n",
       "      <td>3 ou mais</td>\n",
       "      <td>...</td>\n",
       "      <td>Sim</td>\n",
       "      <td>None</td>\n",
       "      <td>None</td>\n",
       "      <td>None</td>\n",
       "      <td>1 a 15</td>\n",
       "      <td>4</td>\n",
       "      <td>10</td>\n",
       "      <td>Juliana</td>\n",
       "      <td>Caio Montagner</td>\n",
       "      <td>3710</td>\n",
       "    </tr>\n",
       "    <tr>\n",
       "      <th>10788047634</th>\n",
       "      <td>None</td>\n",
       "      <td>None</td>\n",
       "      <td>None</td>\n",
       "      <td>None</td>\n",
       "      <td>None</td>\n",
       "      <td>None</td>\n",
       "      <td>None</td>\n",
       "      <td>None</td>\n",
       "      <td>None</td>\n",
       "      <td>None</td>\n",
       "      <td>...</td>\n",
       "      <td>Sim</td>\n",
       "      <td>None</td>\n",
       "      <td>None</td>\n",
       "      <td>None</td>\n",
       "      <td>None</td>\n",
       "      <td>None</td>\n",
       "      <td>None</td>\n",
       "      <td>None</td>\n",
       "      <td>None</td>\n",
       "      <td>None</td>\n",
       "    </tr>\n",
       "  </tbody>\n",
       "</table>\n",
       "<p>5 rows × 31 columns</p>\n",
       "</div>"
      ],
      "text/plain": [
       "               0     1     2     3     4     5     6              7     8   \\\n",
       "10751399944     5     4     5     5   Sim   Sim   Não            Sim   Sim   \n",
       "10777673860     4  None  None  None   Não   Sim   Não           None  None   \n",
       "10777820410     4     5  None  None   Não   Sim   Não  Não se aplica   Sim   \n",
       "10782757738     5     5     5     5   Sim   Sim   Não            Sim   Sim   \n",
       "10788047634  None  None  None  None  None  None  None           None  None   \n",
       "\n",
       "                    9   ...     21    22    23    24       25    26    27  \\\n",
       "10751399944  3 ou mais  ...   None  None  None  None  16 a 30     6     6   \n",
       "10777673860       None  ...   None  None  None  None     None  None  None   \n",
       "10777820410       None  ...   None  None  None  None     None     9     9   \n",
       "10782757738  3 ou mais  ...    Sim  None  None  None   1 a 15     4    10   \n",
       "10788047634       None  ...    Sim  None  None  None     None  None  None   \n",
       "\n",
       "                  28               29    30  \n",
       "10751399944  Juliana  Ana Lídia Cunha  4632  \n",
       "10777673860     None             None  None  \n",
       "10777820410     None             None  None  \n",
       "10782757738  Juliana   Caio Montagner  3710  \n",
       "10788047634     None             None  None  \n",
       "\n",
       "[5 rows x 31 columns]"
      ]
     },
     "execution_count": 20,
     "metadata": {},
     "output_type": "execute_result"
    }
   ],
   "source": [
    "f.gerar_dataframe(respostas_final, dict_final).head()"
   ]
  },
  {
   "cell_type": "code",
   "execution_count": null,
   "metadata": {},
   "outputs": [],
   "source": []
  }
 ],
 "metadata": {
  "kernelspec": {
   "display_name": "Python 3",
   "language": "python",
   "name": "python3"
  },
  "language_info": {
   "codemirror_mode": {
    "name": "ipython",
    "version": 3
   },
   "file_extension": ".py",
   "mimetype": "text/x-python",
   "name": "python",
   "nbconvert_exporter": "python",
   "pygments_lexer": "ipython3",
   "version": "3.6.4"
  }
 },
 "nbformat": 4,
 "nbformat_minor": 2
}
