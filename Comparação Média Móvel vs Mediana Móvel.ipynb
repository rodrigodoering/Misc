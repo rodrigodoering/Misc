{
 "cells": [
  {
   "cell_type": "markdown",
   "metadata": {},
   "source": [
    "Importa as bibliotecas"
   ]
  },
  {
   "cell_type": "code",
   "execution_count": 1,
   "metadata": {},
   "outputs": [],
   "source": [
    "import pandas as pd\n",
    "import numpy as np"
   ]
  },
  {
   "cell_type": "markdown",
   "metadata": {},
   "source": [
    "Cria um conjunto aleatório de valores inteiros"
   ]
  },
  {
   "cell_type": "code",
   "execution_count": 2,
   "metadata": {},
   "outputs": [],
   "source": [
    "y = np.random.randint(1,10,100)"
   ]
  },
  {
   "cell_type": "code",
   "execution_count": 3,
   "metadata": {},
   "outputs": [
    {
     "data": {
      "text/plain": [
       "array([1, 6, 6, 1, 4, 8, 5, 5, 9, 4, 7, 5, 2, 5, 3, 3, 7, 4, 5, 3, 8, 3,\n",
       "       8, 8, 6, 2, 9, 5, 2, 6, 9, 3, 1, 7, 8, 1, 8, 3, 2, 6, 5, 5, 6, 5,\n",
       "       7, 1, 5, 5, 4, 5, 5, 8, 6, 3, 1, 9, 7, 1, 7, 8, 3, 4, 8, 2, 3, 7,\n",
       "       6, 1, 4, 8, 9, 8, 9, 5, 9, 8, 9, 4, 7, 5, 7, 7, 1, 5, 2, 1, 2, 4,\n",
       "       7, 9, 7, 9, 2, 5, 1, 2, 7, 3, 3, 9])"
      ]
     },
     "execution_count": 3,
     "metadata": {},
     "output_type": "execute_result"
    }
   ],
   "source": [
    "y"
   ]
  },
  {
   "cell_type": "markdown",
   "metadata": {},
   "source": [
    "Cria a função que computa a média ou mediana móvel dependendo do parâmetro `mode`"
   ]
  },
  {
   "cell_type": "code",
   "execution_count": 4,
   "metadata": {},
   "outputs": [],
   "source": [
    "def MMovel(y, k, mode):\n",
    "    out = []\n",
    "    if mode == 'media':\n",
    "        calc_func = np.mean\n",
    "    if mode == 'mediana':\n",
    "        calc_func = np.median\n",
    "    for i in range(len(y)):\n",
    "        if (i+1) < k:\n",
    "            pass\n",
    "        else:\n",
    "            out.append(calc_func(y[(i+1)-k:(i+1)]))\n",
    "    return out"
   ]
  },
  {
   "cell_type": "markdown",
   "metadata": {},
   "source": [
    "Cria a função que gera um dataframe com valor real, computado e status: 'Outlier' ou 'Esperado'"
   ]
  },
  {
   "cell_type": "code",
   "execution_count": 5,
   "metadata": {},
   "outputs": [],
   "source": [
    "def Detectar_Outliers(y, k, mode, desvios):      \n",
    "    media_movel = np.array(MMovel(y, k, mode))\n",
    "    y_ = np.array(y[k-1:])\n",
    "    residuo = y_ - media_movel\n",
    "    std = np.std(residuo)\n",
    "    outlier = []\n",
    "    for v_real, v_media in zip(y_, media_movel):\n",
    "        if (v_real < v_media - (desvios*std)) or (v_real > v_media + (desvios*std)):\n",
    "            outlier.append('Outlier')\n",
    "        else:\n",
    "            outlier.append('Esperado')\n",
    "    return pd.DataFrame({'Status':outlier, 'Real':y_, 'Previsto':media_movel})"
   ]
  },
  {
   "cell_type": "markdown",
   "metadata": {},
   "source": [
    "Aplica as funções e cria dois dataframes, um utilizando média móvel e o outro usando mediana móvel"
   ]
  },
  {
   "cell_type": "code",
   "execution_count": 6,
   "metadata": {},
   "outputs": [],
   "source": [
    "df_media = Detectar_Outliers(y, 3, 'media', 2)\n",
    "df_mediana = Detectar_Outliers(y, 3, 'mediana', 2)"
   ]
  },
  {
   "cell_type": "markdown",
   "metadata": {},
   "source": [
    "Exibe apenas os registros filtrados como outliers"
   ]
  },
  {
   "cell_type": "code",
   "execution_count": 10,
   "metadata": {},
   "outputs": [
    {
     "data": {
      "text/html": [
       "<div>\n",
       "<style scoped>\n",
       "    .dataframe tbody tr th:only-of-type {\n",
       "        vertical-align: middle;\n",
       "    }\n",
       "\n",
       "    .dataframe tbody tr th {\n",
       "        vertical-align: top;\n",
       "    }\n",
       "\n",
       "    .dataframe thead th {\n",
       "        text-align: right;\n",
       "    }\n",
       "</style>\n",
       "<table border=\"1\" class=\"dataframe\">\n",
       "  <thead>\n",
       "    <tr style=\"text-align: right;\">\n",
       "      <th></th>\n",
       "      <th>Previsto</th>\n",
       "      <th>Real</th>\n",
       "      <th>Status</th>\n",
       "    </tr>\n",
       "  </thead>\n",
       "  <tbody>\n",
       "    <tr>\n",
       "      <th>33</th>\n",
       "      <td>5.333333</td>\n",
       "      <td>1</td>\n",
       "      <td>Outlier</td>\n",
       "    </tr>\n",
       "    <tr>\n",
       "      <th>53</th>\n",
       "      <td>4.333333</td>\n",
       "      <td>9</td>\n",
       "      <td>Outlier</td>\n",
       "    </tr>\n",
       "    <tr>\n",
       "      <th>55</th>\n",
       "      <td>5.666667</td>\n",
       "      <td>1</td>\n",
       "      <td>Outlier</td>\n",
       "    </tr>\n",
       "  </tbody>\n",
       "</table>\n",
       "</div>"
      ],
      "text/plain": [
       "    Previsto  Real   Status\n",
       "33  5.333333     1  Outlier\n",
       "53  4.333333     9  Outlier\n",
       "55  5.666667     1  Outlier"
      ]
     },
     "execution_count": 10,
     "metadata": {},
     "output_type": "execute_result"
    }
   ],
   "source": [
    "df_media[df_media.Status == 'Outlier']"
   ]
  },
  {
   "cell_type": "code",
   "execution_count": 11,
   "metadata": {},
   "outputs": [
    {
     "data": {
      "text/html": [
       "<div>\n",
       "<style scoped>\n",
       "    .dataframe tbody tr th:only-of-type {\n",
       "        vertical-align: middle;\n",
       "    }\n",
       "\n",
       "    .dataframe tbody tr th {\n",
       "        vertical-align: top;\n",
       "    }\n",
       "\n",
       "    .dataframe thead th {\n",
       "        text-align: right;\n",
       "    }\n",
       "</style>\n",
       "<table border=\"1\" class=\"dataframe\">\n",
       "  <thead>\n",
       "    <tr style=\"text-align: right;\">\n",
       "      <th></th>\n",
       "      <th>Previsto</th>\n",
       "      <th>Real</th>\n",
       "      <th>Status</th>\n",
       "    </tr>\n",
       "  </thead>\n",
       "  <tbody>\n",
       "    <tr>\n",
       "      <th>1</th>\n",
       "      <td>6.0</td>\n",
       "      <td>1</td>\n",
       "      <td>Outlier</td>\n",
       "    </tr>\n",
       "    <tr>\n",
       "      <th>33</th>\n",
       "      <td>7.0</td>\n",
       "      <td>1</td>\n",
       "      <td>Outlier</td>\n",
       "    </tr>\n",
       "    <tr>\n",
       "      <th>53</th>\n",
       "      <td>3.0</td>\n",
       "      <td>9</td>\n",
       "      <td>Outlier</td>\n",
       "    </tr>\n",
       "    <tr>\n",
       "      <th>55</th>\n",
       "      <td>7.0</td>\n",
       "      <td>1</td>\n",
       "      <td>Outlier</td>\n",
       "    </tr>\n",
       "    <tr>\n",
       "      <th>65</th>\n",
       "      <td>6.0</td>\n",
       "      <td>1</td>\n",
       "      <td>Outlier</td>\n",
       "    </tr>\n",
       "    <tr>\n",
       "      <th>80</th>\n",
       "      <td>7.0</td>\n",
       "      <td>1</td>\n",
       "      <td>Outlier</td>\n",
       "    </tr>\n",
       "    <tr>\n",
       "      <th>90</th>\n",
       "      <td>7.0</td>\n",
       "      <td>2</td>\n",
       "      <td>Outlier</td>\n",
       "    </tr>\n",
       "    <tr>\n",
       "      <th>94</th>\n",
       "      <td>2.0</td>\n",
       "      <td>7</td>\n",
       "      <td>Outlier</td>\n",
       "    </tr>\n",
       "    <tr>\n",
       "      <th>97</th>\n",
       "      <td>3.0</td>\n",
       "      <td>9</td>\n",
       "      <td>Outlier</td>\n",
       "    </tr>\n",
       "  </tbody>\n",
       "</table>\n",
       "</div>"
      ],
      "text/plain": [
       "    Previsto  Real   Status\n",
       "1        6.0     1  Outlier\n",
       "33       7.0     1  Outlier\n",
       "53       3.0     9  Outlier\n",
       "55       7.0     1  Outlier\n",
       "65       6.0     1  Outlier\n",
       "80       7.0     1  Outlier\n",
       "90       7.0     2  Outlier\n",
       "94       2.0     7  Outlier\n",
       "97       3.0     9  Outlier"
      ]
     },
     "execution_count": 11,
     "metadata": {},
     "output_type": "execute_result"
    }
   ],
   "source": [
    "df_mediana[df_mediana.Status == 'Outlier']"
   ]
  }
 ],
 "metadata": {
  "kernelspec": {
   "display_name": "Python 3",
   "language": "python",
   "name": "python3"
  },
  "language_info": {
   "codemirror_mode": {
    "name": "ipython",
    "version": 3
   },
   "file_extension": ".py",
   "mimetype": "text/x-python",
   "name": "python",
   "nbconvert_exporter": "python",
   "pygments_lexer": "ipython3",
   "version": "3.6.4"
  }
 },
 "nbformat": 4,
 "nbformat_minor": 2
}
